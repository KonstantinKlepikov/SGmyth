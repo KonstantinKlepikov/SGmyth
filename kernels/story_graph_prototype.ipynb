{
 "cells": [
  {
   "cell_type": "code",
   "execution_count": 1,
   "metadata": {},
   "outputs": [],
   "source": [
    "import snap\n",
    "from graphviz import Graph\n",
    "from graphviz import Source\n",
    "import matplotlib.pyplot as plt"
   ]
  },
  {
   "cell_type": "code",
   "execution_count": 2,
   "metadata": {},
   "outputs": [],
   "source": [
    "import sys\n",
    "if sys.version_info[0] < 3: \n",
    "    from StringIO import StringIO\n",
    "else:\n",
    "    from io import StringIO\n",
    "import os\n",
    "import numpy as np\n",
    "import pandas as pd"
   ]
  },
  {
   "cell_type": "markdown",
   "metadata": {},
   "source": [
    "# Preprocessing"
   ]
  },
  {
   "cell_type": "code",
   "execution_count": 3,
   "metadata": {},
   "outputs": [],
   "source": [
    "story = StringIO(\"\"\"во времена древнего солнца Yompor Pret женщины рожали гнилое дерево, ящериц или волосатых обезьян; жрец велел воспитывать брата с сестрой в особом доме; пойдя за водой, сестра нашла два цветка, спрятала на теле, забеременела; жрец признал, что это случилось по воле верховного бога, а не от брата; мать ягуаров Patonell убила ее; близнецы из ее чрева бросились в воду, их вырастила рыба (сом, armoured catfish, Loricariidae); они играют, никто не может их поймать; Ящерица сказал, что поймает, но его осмеяли; он ушел, жрец велел звать его обратно, тот согласился на пятый раз; близнецов поймали, но они не росли; П. сказала, что вырастит их, у нее много мяса; они все время марают себе, П. их моет; велит не трогать ее пиво из маниока; каждый раз застает их пьяными, они отвечают, что напиток готовит их сестра-пчела; однажды сыновья П. вернулись без добычи, предложили сварить близнецов; они сами напоили П., сварили, разбросали части ее тела в разных местах; спрятались под крышей; части тела отвечают ягуарам с разных сторон, велят есть варево, будто там близнецы; братья крикнули им, что те едят; Пума и Оцелот не ели, поняли; ягуары нашли в котле голову матери; подожгли дом, близнецы прыгнули за озеро, сделали мост из лиан; ягуары пошли по нему, те его обрушили, спаслась одна беременная ягуариха; близнецы стали взрослыми, поднялись на небо, брат стал Солнцем, сестра - Луной\"\"\")"
   ]
  },
  {
   "cell_type": "code",
   "execution_count": 4,
   "metadata": {},
   "outputs": [],
   "source": [
    "story_tab = StringIO(\"\"\"0; 1; 2; 3; 4; 5; 6; 7; 8; 9; 10; 11; 12; 13; 14; 15; 16; 17; 18; 19; 20; 21; 22; 23;\n",
    "во времена древнего солнца Yompor Pret женщины рожали гнилое дерево, ящериц или волосатых обезьян; жрец велел воспитывать брата с сестрой в особом доме; пойдя за водой, сестра нашла два цветка, спрятала на теле, забеременела; жрец признал, что это случилось по воле верховного бога, а не от брата; мать ягуаров Patonell убила ее; близнецы из ее чрева бросились в воду, их вырастила рыба (сом, armoured catfish, Loricariidae); они играют, никто не может их поймать; Ящерица сказал, что поймает, но его осмеяли; он ушел, жрец велел звать его обратно, тот согласился на пятый раз; близнецов поймали, но они не росли; П. сказала, что вырастит их, у нее много мяса; они все время марают себе, П. их моет; велит не трогать ее пиво из маниока; каждый раз застает их пьяными, они отвечают, что напиток готовит их сестра-пчела; однажды сыновья П. вернулись без добычи, предложили сварить близнецов; они сами напоили П., сварили, разбросали части ее тела в разных местах; спрятались под крышей; части тела отвечают ягуарам с разных сторон, велят есть варево, будто там близнецы; братья крикнули им, что те едят; Пума и Оцелот не ели, поняли; ягуары нашли в котле голову матери; подожгли дом, близнецы прыгнули за озеро, сделали мост из лиан; ягуары пошли по нему, те его обрушили, спаслась одна беременная ягуариха; близнецы стали взрослыми, поднялись на небо, брат стал Солнцем, сестра - Луной\"\"\")"
   ]
  },
  {
   "cell_type": "code",
   "execution_count": 5,
   "metadata": {},
   "outputs": [],
   "source": [
    "df_story = pd.read_csv(story_tab, sep=\";\")"
   ]
  },
  {
   "cell_type": "code",
   "execution_count": 6,
   "metadata": {},
   "outputs": [
    {
     "data": {
      "text/html": [
       "<div>\n",
       "<style scoped>\n",
       "    .dataframe tbody tr th:only-of-type {\n",
       "        vertical-align: middle;\n",
       "    }\n",
       "\n",
       "    .dataframe tbody tr th {\n",
       "        vertical-align: top;\n",
       "    }\n",
       "\n",
       "    .dataframe thead th {\n",
       "        text-align: right;\n",
       "    }\n",
       "</style>\n",
       "<table border=\"1\" class=\"dataframe\">\n",
       "  <thead>\n",
       "    <tr style=\"text-align: right;\">\n",
       "      <th></th>\n",
       "      <th>0</th>\n",
       "      <th>1</th>\n",
       "      <th>2</th>\n",
       "      <th>3</th>\n",
       "      <th>4</th>\n",
       "      <th>5</th>\n",
       "      <th>6</th>\n",
       "      <th>7</th>\n",
       "      <th>8</th>\n",
       "      <th>9</th>\n",
       "      <th>...</th>\n",
       "      <th>15</th>\n",
       "      <th>16</th>\n",
       "      <th>17</th>\n",
       "      <th>18</th>\n",
       "      <th>19</th>\n",
       "      <th>20</th>\n",
       "      <th>21</th>\n",
       "      <th>22</th>\n",
       "      <th>23</th>\n",
       "      <th>Unnamed: 24</th>\n",
       "    </tr>\n",
       "  </thead>\n",
       "  <tbody>\n",
       "    <tr>\n",
       "      <th>0</th>\n",
       "      <td>во времена древнего солнца Yompor Pret женщины...</td>\n",
       "      <td>жрец велел воспитывать брата с сестрой в особ...</td>\n",
       "      <td>пойдя за водой, сестра нашла два цветка, спря...</td>\n",
       "      <td>жрец признал, что это случилось по воле верхо...</td>\n",
       "      <td>мать ягуаров Patonell убила ее</td>\n",
       "      <td>близнецы из ее чрева бросились в воду, их выр...</td>\n",
       "      <td>они играют, никто не может их поймать</td>\n",
       "      <td>Ящерица сказал, что поймает, но его осмеяли</td>\n",
       "      <td>он ушел, жрец велел звать его обратно, тот со...</td>\n",
       "      <td>близнецов поймали, но они не росли</td>\n",
       "      <td>...</td>\n",
       "      <td>они сами напоили П., сварили, разбросали част...</td>\n",
       "      <td>спрятались под крышей</td>\n",
       "      <td>части тела отвечают ягуарам с разных сторон, ...</td>\n",
       "      <td>братья крикнули им, что те едят</td>\n",
       "      <td>Пума и Оцелот не ели, поняли</td>\n",
       "      <td>ягуары нашли в котле голову матери</td>\n",
       "      <td>подожгли дом, близнецы прыгнули за озеро, сде...</td>\n",
       "      <td>ягуары пошли по нему, те его обрушили, спасла...</td>\n",
       "      <td>близнецы стали взрослыми, поднялись на небо, ...</td>\n",
       "      <td>NaN</td>\n",
       "    </tr>\n",
       "  </tbody>\n",
       "</table>\n",
       "<p>1 rows × 25 columns</p>\n",
       "</div>"
      ],
      "text/plain": [
       "                                                   0  \\\n",
       "0  во времена древнего солнца Yompor Pret женщины...   \n",
       "\n",
       "                                                   1  \\\n",
       "0   жрец велел воспитывать брата с сестрой в особ...   \n",
       "\n",
       "                                                   2  \\\n",
       "0   пойдя за водой, сестра нашла два цветка, спря...   \n",
       "\n",
       "                                                   3  \\\n",
       "0   жрец признал, что это случилось по воле верхо...   \n",
       "\n",
       "                                 4  \\\n",
       "0   мать ягуаров Patonell убила ее   \n",
       "\n",
       "                                                   5  \\\n",
       "0   близнецы из ее чрева бросились в воду, их выр...   \n",
       "\n",
       "                                        6  \\\n",
       "0   они играют, никто не может их поймать   \n",
       "\n",
       "                                              7  \\\n",
       "0   Ящерица сказал, что поймает, но его осмеяли   \n",
       "\n",
       "                                                   8  \\\n",
       "0   он ушел, жрец велел звать его обратно, тот со...   \n",
       "\n",
       "                                     9  ...  \\\n",
       "0   близнецов поймали, но они не росли  ...   \n",
       "\n",
       "                                                  15                      16  \\\n",
       "0   они сами напоили П., сварили, разбросали част...   спрятались под крышей   \n",
       "\n",
       "                                                  17  \\\n",
       "0   части тела отвечают ягуарам с разных сторон, ...   \n",
       "\n",
       "                                 18                             19  \\\n",
       "0   братья крикнули им, что те едят   Пума и Оцелот не ели, поняли   \n",
       "\n",
       "                                    20  \\\n",
       "0   ягуары нашли в котле голову матери   \n",
       "\n",
       "                                                  21  \\\n",
       "0   подожгли дом, близнецы прыгнули за озеро, сде...   \n",
       "\n",
       "                                                  22  \\\n",
       "0   ягуары пошли по нему, те его обрушили, спасла...   \n",
       "\n",
       "                                                  23 Unnamed: 24  \n",
       "0   близнецы стали взрослыми, поднялись на небо, ...         NaN  \n",
       "\n",
       "[1 rows x 25 columns]"
      ]
     },
     "execution_count": 6,
     "metadata": {},
     "output_type": "execute_result"
    }
   ],
   "source": [
    "df_story"
   ]
  },
  {
   "cell_type": "code",
   "execution_count": 7,
   "metadata": {},
   "outputs": [],
   "source": [
    "df_story.drop(['Unnamed: 24'], axis=1, inplace=True)"
   ]
  },
  {
   "cell_type": "code",
   "execution_count": 8,
   "metadata": {},
   "outputs": [],
   "source": [
    "def text_gen(df): \n",
    "    for i in df:\n",
    "        yield print('Столбец {0}\\nТекст: {1}'.format(i, df_story.iloc[0][i]))"
   ]
  },
  {
   "cell_type": "markdown",
   "metadata": {},
   "source": [
    "## Full story"
   ]
  },
  {
   "cell_type": "code",
   "execution_count": 9,
   "metadata": {},
   "outputs": [],
   "source": [
    "stroy_iter = text_gen(df_story.copy())"
   ]
  },
  {
   "cell_type": "code",
   "execution_count": 10,
   "metadata": {},
   "outputs": [],
   "source": [
    "memb = list()"
   ]
  },
  {
   "cell_type": "code",
   "execution_count": 11,
   "metadata": {},
   "outputs": [
    {
     "name": "stdout",
     "output_type": "stream",
     "text": [
      "Столбец 0\n",
      "Текст: во времена древнего солнца Yompor Pret женщины рожали гнилое дерево, ящериц или волосатых обезьян\n"
     ]
    }
   ],
   "source": [
    "next(stroy_iter)"
   ]
  },
  {
   "cell_type": "code",
   "execution_count": 12,
   "metadata": {},
   "outputs": [],
   "source": [
    "for i in (('древнеe солнце', 'женщины'),\n",
    "           ('женщины', 'гнилое дерево'),\n",
    "           ('женщины', 'ящерицы'),\n",
    "           ('женщины', 'волосатые обезьяны')):\n",
    "    memb.append(i)"
   ]
  },
  {
   "cell_type": "code",
   "execution_count": 13,
   "metadata": {},
   "outputs": [
    {
     "name": "stdout",
     "output_type": "stream",
     "text": [
      "Столбец  1\n",
      "Текст:  жрец велел воспитывать брата с сестрой в особом доме\n"
     ]
    }
   ],
   "source": [
    "next(stroy_iter)"
   ]
  },
  {
   "cell_type": "code",
   "execution_count": 14,
   "metadata": {},
   "outputs": [],
   "source": [
    "for i in (('жрец', 'брат'),\n",
    "           ('жрец', 'сестра'),\n",
    "           ('сестра', 'особый дом'),\n",
    "           ('брат', 'особый дом')):\n",
    "    memb.append(i)"
   ]
  },
  {
   "cell_type": "code",
   "execution_count": 15,
   "metadata": {},
   "outputs": [
    {
     "name": "stdout",
     "output_type": "stream",
     "text": [
      "Столбец  2\n",
      "Текст:  пойдя за водой, сестра нашла два цветка, спрятала на теле, забеременела\n"
     ]
    }
   ],
   "source": [
    "next(stroy_iter)"
   ]
  },
  {
   "cell_type": "code",
   "execution_count": 16,
   "metadata": {},
   "outputs": [],
   "source": [
    "for i in (('сестра', 'вода'),\n",
    "           ('вода', 'два цветка'),\n",
    "           ('два цветка', 'тело'),\n",
    "           ('тело', 'беременность')):\n",
    "    memb.append(i)"
   ]
  },
  {
   "cell_type": "code",
   "execution_count": 17,
   "metadata": {},
   "outputs": [
    {
     "name": "stdout",
     "output_type": "stream",
     "text": [
      "Столбец  3\n",
      "Текст:  жрец признал, что это случилось по воле верховного бога, а не от брата\n"
     ]
    }
   ],
   "source": [
    "next(stroy_iter)"
   ]
  },
  {
   "cell_type": "code",
   "execution_count": 18,
   "metadata": {},
   "outputs": [],
   "source": [
    "for i in (('жрец', 'беременность'),\n",
    "           ('беременность', 'верховный бог'),\n",
    "           ('беременность', 'брат')):\n",
    "    memb.append(i)"
   ]
  },
  {
   "cell_type": "code",
   "execution_count": 19,
   "metadata": {},
   "outputs": [
    {
     "name": "stdout",
     "output_type": "stream",
     "text": [
      "Столбец  4\n",
      "Текст:  мать ягуаров Patonell убила ее\n"
     ]
    }
   ],
   "source": [
    "next(stroy_iter)"
   ]
  },
  {
   "cell_type": "code",
   "execution_count": 20,
   "metadata": {},
   "outputs": [],
   "source": [
    "memb.append(('мать ягуаров', 'сестра'))"
   ]
  },
  {
   "cell_type": "code",
   "execution_count": 21,
   "metadata": {},
   "outputs": [
    {
     "name": "stdout",
     "output_type": "stream",
     "text": [
      "Столбец  5\n",
      "Текст:  близнецы из ее чрева бросились в воду, их вырастила рыба (сом, armoured catfish, Loricariidae)\n"
     ]
    }
   ],
   "source": [
    "next(stroy_iter)"
   ]
  },
  {
   "cell_type": "code",
   "execution_count": 22,
   "metadata": {},
   "outputs": [],
   "source": [
    "for i in (('сестра', 'чрево'),\n",
    "           ('чрево', 'близнецы'),\n",
    "           ('близнецы', 'вода'),\n",
    "           ('вода', 'рыба'),\n",
    "           ('рыба', 'близнецы')):\n",
    "    memb.append(i)"
   ]
  },
  {
   "cell_type": "code",
   "execution_count": 23,
   "metadata": {},
   "outputs": [
    {
     "name": "stdout",
     "output_type": "stream",
     "text": [
      "Столбец  6\n",
      "Текст:  они играют, никто не может их поймать\n"
     ]
    }
   ],
   "source": [
    "next(stroy_iter)"
   ]
  },
  {
   "cell_type": "code",
   "execution_count": 24,
   "metadata": {},
   "outputs": [],
   "source": [
    "for i in (('близнецы', 'близнецы'),\n",
    "           ('близнецы', 'другие')):\n",
    "    memb.append(i)"
   ]
  },
  {
   "cell_type": "code",
   "execution_count": 25,
   "metadata": {},
   "outputs": [
    {
     "name": "stdout",
     "output_type": "stream",
     "text": [
      "Столбец  7\n",
      "Текст:  Ящерица сказал, что поймает, но его осмеяли\n"
     ]
    }
   ],
   "source": [
    "next(stroy_iter)"
   ]
  },
  {
   "cell_type": "code",
   "execution_count": 26,
   "metadata": {},
   "outputs": [],
   "source": [
    "for i in (('Ящерица', 'близнецы'),\n",
    "           ('другие', 'Ящерица')):\n",
    "    memb.append(i)"
   ]
  },
  {
   "cell_type": "code",
   "execution_count": 27,
   "metadata": {},
   "outputs": [
    {
     "name": "stdout",
     "output_type": "stream",
     "text": [
      "Столбец  8\n",
      "Текст:  он ушел, жрец велел звать его обратно, тот согласился на пятый раз\n"
     ]
    }
   ],
   "source": [
    "next(stroy_iter)"
   ]
  },
  {
   "cell_type": "code",
   "execution_count": 28,
   "metadata": {},
   "outputs": [],
   "source": [
    "for i in (('Ящерица', 'Ящерица'),\n",
    "           ('жрец', 'Ящерица'),\n",
    "           ('Ящерица', 'счет')):\n",
    "    memb.append(i)"
   ]
  },
  {
   "cell_type": "code",
   "execution_count": 29,
   "metadata": {},
   "outputs": [
    {
     "name": "stdout",
     "output_type": "stream",
     "text": [
      "Столбец  9\n",
      "Текст:  близнецов поймали, но они не росли\n"
     ]
    }
   ],
   "source": [
    "next(stroy_iter)"
   ]
  },
  {
   "cell_type": "code",
   "execution_count": 30,
   "metadata": {},
   "outputs": [],
   "source": [
    "for i in (('близнецы', 'близнецы'),\n",
    "           ('Ящерица', 'близнецы')):\n",
    "    memb.append(i)"
   ]
  },
  {
   "cell_type": "code",
   "execution_count": 31,
   "metadata": {},
   "outputs": [
    {
     "name": "stdout",
     "output_type": "stream",
     "text": [
      "Столбец  10\n",
      "Текст:  П. сказала, что вырастит их, у нее много мяса\n"
     ]
    }
   ],
   "source": [
    "next(stroy_iter)"
   ]
  },
  {
   "cell_type": "code",
   "execution_count": 32,
   "metadata": {},
   "outputs": [],
   "source": [
    "for i in (('мать ягуаров', 'мясо'),\n",
    "           ('мясо', 'близнецы')):\n",
    "    memb.append(i)"
   ]
  },
  {
   "cell_type": "code",
   "execution_count": 33,
   "metadata": {},
   "outputs": [
    {
     "name": "stdout",
     "output_type": "stream",
     "text": [
      "Столбец  11\n",
      "Текст:  они все время марают себе, П. их моет\n"
     ]
    }
   ],
   "source": [
    "next(stroy_iter)"
   ]
  },
  {
   "cell_type": "code",
   "execution_count": 34,
   "metadata": {},
   "outputs": [],
   "source": [
    "for i in (('близнецы', 'близнецы'),\n",
    "           ('мать ягуаров', 'близнецы')):\n",
    "    memb.append(i)"
   ]
  },
  {
   "cell_type": "code",
   "execution_count": 35,
   "metadata": {},
   "outputs": [
    {
     "name": "stdout",
     "output_type": "stream",
     "text": [
      "Столбец  12\n",
      "Текст:  велит не трогать ее пиво из маниока\n"
     ]
    }
   ],
   "source": [
    "next(stroy_iter)"
   ]
  },
  {
   "cell_type": "code",
   "execution_count": 36,
   "metadata": {},
   "outputs": [],
   "source": [
    "for i in (('мать ягуаров', 'близнецы'),\n",
    "           ('мать ягуаров', 'пиво из маниока'),\n",
    "           ('пиво из маниока', 'близнецы')):\n",
    "    memb.append(i)"
   ]
  },
  {
   "cell_type": "code",
   "execution_count": 37,
   "metadata": {},
   "outputs": [
    {
     "name": "stdout",
     "output_type": "stream",
     "text": [
      "Столбец  13\n",
      "Текст:  каждый раз застает их пьяными, они отвечают, что напиток готовит их сестра-пчела\n"
     ]
    }
   ],
   "source": [
    "next(stroy_iter)"
   ]
  },
  {
   "cell_type": "code",
   "execution_count": 38,
   "metadata": {},
   "outputs": [],
   "source": [
    "for i in (('мать ягуаров', 'близнецы'),\n",
    "           ('близнецы', 'пиво из маниока'),\n",
    "           ('близнецы', 'мать ягуаров'),\n",
    "           ('пиво из маниока', 'сестра-пчела'),\n",
    "           ('сестра-пчела', 'близнецы')):\n",
    "    memb.append(i)"
   ]
  },
  {
   "cell_type": "code",
   "execution_count": 39,
   "metadata": {},
   "outputs": [
    {
     "name": "stdout",
     "output_type": "stream",
     "text": [
      "Столбец  14\n",
      "Текст:  однажды сыновья П. вернулись без добычи, предложили сварить близнецов\n"
     ]
    }
   ],
   "source": [
    "next(stroy_iter)"
   ]
  },
  {
   "cell_type": "code",
   "execution_count": 40,
   "metadata": {},
   "outputs": [],
   "source": [
    "for i in (('мать ягуаров', 'сыновья матери ягуаров'),\n",
    "           ('сыновья матери ягуаров', 'добыча'),\n",
    "           ('добыча', 'близнецы')):\n",
    "    memb.append(i)"
   ]
  },
  {
   "cell_type": "code",
   "execution_count": 41,
   "metadata": {},
   "outputs": [
    {
     "name": "stdout",
     "output_type": "stream",
     "text": [
      "Столбец  15\n",
      "Текст:  они сами напоили П., сварили, разбросали части ее тела в разных местах\n"
     ]
    }
   ],
   "source": [
    "next(stroy_iter)"
   ]
  },
  {
   "cell_type": "code",
   "execution_count": 42,
   "metadata": {},
   "outputs": [],
   "source": [
    "for i in (('сыновья матери ягуаров', 'мать ягуаров'),\n",
    "           ('мать ягуаров', 'части тела')):\n",
    "    memb.append(i)"
   ]
  },
  {
   "cell_type": "code",
   "execution_count": 43,
   "metadata": {},
   "outputs": [
    {
     "name": "stdout",
     "output_type": "stream",
     "text": [
      "Столбец  16\n",
      "Текст:  спрятались под крышей\n"
     ]
    }
   ],
   "source": [
    "next(stroy_iter)"
   ]
  },
  {
   "cell_type": "code",
   "execution_count": 44,
   "metadata": {},
   "outputs": [],
   "source": [
    "memb.append(('сыновья матери ягуаров', 'крыша'))"
   ]
  },
  {
   "cell_type": "code",
   "execution_count": 45,
   "metadata": {},
   "outputs": [
    {
     "name": "stdout",
     "output_type": "stream",
     "text": [
      "Столбец  17\n",
      "Текст:  части тела отвечают ягуарам с разных сторон, велят есть варево, будто там близнецы\n"
     ]
    }
   ],
   "source": [
    "next(stroy_iter)"
   ]
  },
  {
   "cell_type": "code",
   "execution_count": 46,
   "metadata": {},
   "outputs": [],
   "source": [
    "for i in (('части тела', 'сыновья матери ягуаров'),\n",
    "           ('сыновья матери ягуаров', 'варево'),\n",
    "           ('варево', 'близнецы')):\n",
    "    memb.append(i)"
   ]
  },
  {
   "cell_type": "code",
   "execution_count": 47,
   "metadata": {},
   "outputs": [
    {
     "name": "stdout",
     "output_type": "stream",
     "text": [
      "Столбец  18\n",
      "Текст:  братья крикнули им, что те едят\n"
     ]
    }
   ],
   "source": [
    "next(stroy_iter)"
   ]
  },
  {
   "cell_type": "code",
   "execution_count": 48,
   "metadata": {},
   "outputs": [],
   "source": [
    "for i in (('сыновья матери ягуаров', 'части тела'),\n",
    "           ('сыновья матери ягуаров', 'варево')):\n",
    "    memb.append(i)"
   ]
  },
  {
   "cell_type": "code",
   "execution_count": 49,
   "metadata": {},
   "outputs": [
    {
     "name": "stdout",
     "output_type": "stream",
     "text": [
      "Столбец  19\n",
      "Текст:  Пума и Оцелот не ели, поняли\n"
     ]
    }
   ],
   "source": [
    "next(stroy_iter)"
   ]
  },
  {
   "cell_type": "code",
   "execution_count": 50,
   "metadata": {},
   "outputs": [],
   "source": [
    "memb.append(('Пума и Оцелот', 'варево'))"
   ]
  },
  {
   "cell_type": "code",
   "execution_count": 51,
   "metadata": {},
   "outputs": [
    {
     "name": "stdout",
     "output_type": "stream",
     "text": [
      "Столбец  20\n",
      "Текст:  ягуары нашли в котле голову матери\n"
     ]
    }
   ],
   "source": [
    "next(stroy_iter)"
   ]
  },
  {
   "cell_type": "code",
   "execution_count": 52,
   "metadata": {},
   "outputs": [],
   "source": [
    "for i in (('сыновья матери ягуаров', 'котел'),\n",
    "           ('котел', 'голова'),\n",
    "           ('голова', 'мать ягуаров')):\n",
    "    memb.append(i)"
   ]
  },
  {
   "cell_type": "code",
   "execution_count": 53,
   "metadata": {},
   "outputs": [
    {
     "name": "stdout",
     "output_type": "stream",
     "text": [
      "Столбец  21\n",
      "Текст:  подожгли дом, близнецы прыгнули за озеро, сделали мост из лиан\n"
     ]
    }
   ],
   "source": [
    "next(stroy_iter)"
   ]
  },
  {
   "cell_type": "code",
   "execution_count": 54,
   "metadata": {},
   "outputs": [],
   "source": [
    "for i in (('сыновья матери ягуаров', 'особый дом'),\n",
    "           ('особый дом', 'близнецы'),\n",
    "           ('близнецы', 'озеро'),\n",
    "           ('мост из лиан', 'мост из лиан')):\n",
    "    memb.append(i)"
   ]
  },
  {
   "cell_type": "code",
   "execution_count": 55,
   "metadata": {},
   "outputs": [
    {
     "name": "stdout",
     "output_type": "stream",
     "text": [
      "Столбец  22\n",
      "Текст:  ягуары пошли по нему, те его обрушили, спаслась одна беременная ягуариха\n"
     ]
    }
   ],
   "source": [
    "next(stroy_iter)"
   ]
  },
  {
   "cell_type": "code",
   "execution_count": 56,
   "metadata": {},
   "outputs": [],
   "source": [
    "for i in (('сыновья матери ягуаров', 'мост из лиан'),\n",
    "           ('близнецы', 'мост из лиан'),\n",
    "           ('мост из лиан', 'беременная ягуариха'),\n",
    "           ('беременная ягуариха', 'сыновья матери ягуаров')):\n",
    "    memb.append(i)"
   ]
  },
  {
   "cell_type": "code",
   "execution_count": 57,
   "metadata": {},
   "outputs": [
    {
     "name": "stdout",
     "output_type": "stream",
     "text": [
      "Столбец  23\n",
      "Текст:  близнецы стали взрослыми, поднялись на небо, брат стал Солнцем, сестра - Луной\n"
     ]
    }
   ],
   "source": [
    "next(stroy_iter)"
   ]
  },
  {
   "cell_type": "code",
   "execution_count": 58,
   "metadata": {},
   "outputs": [],
   "source": [
    "for i in (('близнецы', 'взросление'),\n",
    "           ('взросление', 'небо'),\n",
    "           ('небо', 'Солнце'),\n",
    "           ('небо', 'Луна')):\n",
    "    memb.append(i)"
   ]
  },
  {
   "cell_type": "code",
   "execution_count": 59,
   "metadata": {},
   "outputs": [
    {
     "ename": "StopIteration",
     "evalue": "",
     "output_type": "error",
     "traceback": [
      "\u001b[1;31m---------------------------------------------------------------------------\u001b[0m",
      "\u001b[1;31mStopIteration\u001b[0m                             Traceback (most recent call last)",
      "\u001b[1;32m<ipython-input-59-8bdc53a5b857>\u001b[0m in \u001b[0;36m<module>\u001b[1;34m\u001b[0m\n\u001b[1;32m----> 1\u001b[1;33m \u001b[0mnext\u001b[0m\u001b[1;33m(\u001b[0m\u001b[0mstroy_iter\u001b[0m\u001b[1;33m)\u001b[0m\u001b[1;33m\u001b[0m\u001b[1;33m\u001b[0m\u001b[0m\n\u001b[0m",
      "\u001b[1;31mStopIteration\u001b[0m: "
     ]
    }
   ],
   "source": [
    "next(stroy_iter)"
   ]
  },
  {
   "cell_type": "markdown",
   "metadata": {},
   "source": [
    "# Graph"
   ]
  },
  {
   "cell_type": "code",
   "execution_count": 60,
   "metadata": {
    "scrolled": true
   },
   "outputs": [
    {
     "data": {
      "text/plain": [
       "[('древнеe солнце', 'женщины'),\n",
       " ('женщины', 'гнилое дерево'),\n",
       " ('женщины', 'ящерицы'),\n",
       " ('женщины', 'волосатые обезьяны'),\n",
       " ('жрец', 'брат'),\n",
       " ('жрец', 'сестра'),\n",
       " ('сестра', 'особый дом'),\n",
       " ('брат', 'особый дом'),\n",
       " ('сестра', 'вода'),\n",
       " ('вода', 'два цветка'),\n",
       " ('два цветка', 'тело'),\n",
       " ('тело', 'беременность'),\n",
       " ('жрец', 'беременность'),\n",
       " ('беременность', 'верховный бог'),\n",
       " ('беременность', 'брат'),\n",
       " ('мать ягуаров', 'сестра'),\n",
       " ('сестра', 'чрево'),\n",
       " ('чрево', 'близнецы'),\n",
       " ('близнецы', 'вода'),\n",
       " ('вода', 'рыба'),\n",
       " ('рыба', 'близнецы'),\n",
       " ('близнецы', 'близнецы'),\n",
       " ('близнецы', 'другие'),\n",
       " ('Ящерица', 'близнецы'),\n",
       " ('другие', 'Ящерица'),\n",
       " ('Ящерица', 'Ящерица'),\n",
       " ('жрец', 'Ящерица'),\n",
       " ('Ящерица', 'счет'),\n",
       " ('близнецы', 'близнецы'),\n",
       " ('Ящерица', 'близнецы'),\n",
       " ('мать ягуаров', 'мясо'),\n",
       " ('мясо', 'близнецы'),\n",
       " ('близнецы', 'близнецы'),\n",
       " ('мать ягуаров', 'близнецы'),\n",
       " ('мать ягуаров', 'близнецы'),\n",
       " ('мать ягуаров', 'пиво из маниока'),\n",
       " ('пиво из маниока', 'близнецы'),\n",
       " ('мать ягуаров', 'близнецы'),\n",
       " ('близнецы', 'пиво из маниока'),\n",
       " ('близнецы', 'мать ягуаров'),\n",
       " ('пиво из маниока', 'сестра-пчела'),\n",
       " ('сестра-пчела', 'близнецы'),\n",
       " ('мать ягуаров', 'сыновья матери ягуаров'),\n",
       " ('сыновья матери ягуаров', 'добыча'),\n",
       " ('добыча', 'близнецы'),\n",
       " ('сыновья матери ягуаров', 'мать ягуаров'),\n",
       " ('мать ягуаров', 'части тела'),\n",
       " ('сыновья матери ягуаров', 'крыша'),\n",
       " ('части тела', 'сыновья матери ягуаров'),\n",
       " ('сыновья матери ягуаров', 'варево'),\n",
       " ('варево', 'близнецы'),\n",
       " ('сыновья матери ягуаров', 'части тела'),\n",
       " ('сыновья матери ягуаров', 'варево'),\n",
       " ('Пума и Оцелот', 'варево'),\n",
       " ('сыновья матери ягуаров', 'котел'),\n",
       " ('котел', 'голова'),\n",
       " ('голова', 'мать ягуаров'),\n",
       " ('сыновья матери ягуаров', 'особый дом'),\n",
       " ('особый дом', 'близнецы'),\n",
       " ('близнецы', 'озеро'),\n",
       " ('мост из лиан', 'мост из лиан'),\n",
       " ('сыновья матери ягуаров', 'мост из лиан'),\n",
       " ('близнецы', 'мост из лиан'),\n",
       " ('мост из лиан', 'беременная ягуариха'),\n",
       " ('беременная ягуариха', 'сыновья матери ягуаров'),\n",
       " ('близнецы', 'взросление'),\n",
       " ('взросление', 'небо'),\n",
       " ('небо', 'Солнце'),\n",
       " ('небо', 'Луна')]"
      ]
     },
     "execution_count": 60,
     "metadata": {},
     "output_type": "execute_result"
    }
   ],
   "source": [
    "memb"
   ]
  },
  {
   "cell_type": "code",
   "execution_count": 61,
   "metadata": {},
   "outputs": [],
   "source": [
    "count = set()\n",
    "for i in memb:\n",
    "    count.add(i[0])\n",
    "    count.add(i[1])"
   ]
  },
  {
   "cell_type": "code",
   "execution_count": 62,
   "metadata": {
    "scrolled": true
   },
   "outputs": [
    {
     "data": {
      "text/plain": [
       "{'Луна',\n",
       " 'Пума и Оцелот',\n",
       " 'Солнце',\n",
       " 'Ящерица',\n",
       " 'беременная ягуариха',\n",
       " 'беременность',\n",
       " 'близнецы',\n",
       " 'брат',\n",
       " 'варево',\n",
       " 'верховный бог',\n",
       " 'взросление',\n",
       " 'вода',\n",
       " 'волосатые обезьяны',\n",
       " 'гнилое дерево',\n",
       " 'голова',\n",
       " 'два цветка',\n",
       " 'добыча',\n",
       " 'древнеe солнце',\n",
       " 'другие',\n",
       " 'женщины',\n",
       " 'жрец',\n",
       " 'котел',\n",
       " 'крыша',\n",
       " 'мать ягуаров',\n",
       " 'мост из лиан',\n",
       " 'мясо',\n",
       " 'небо',\n",
       " 'озеро',\n",
       " 'особый дом',\n",
       " 'пиво из маниока',\n",
       " 'рыба',\n",
       " 'сестра',\n",
       " 'сестра-пчела',\n",
       " 'счет',\n",
       " 'сыновья матери ягуаров',\n",
       " 'тело',\n",
       " 'части тела',\n",
       " 'чрево',\n",
       " 'ящерицы'}"
      ]
     },
     "execution_count": 62,
     "metadata": {},
     "output_type": "execute_result"
    }
   ],
   "source": [
    "count"
   ]
  },
  {
   "cell_type": "code",
   "execution_count": 63,
   "metadata": {},
   "outputs": [],
   "source": [
    "list_for_map = []\n",
    "for i in memb:\n",
    "    if i[0] in count and not i[0] in list_for_map:\n",
    "        list_for_map.append(i[0])\n",
    "    if i[1] in count and not i[1] in list_for_map:\n",
    "        list_for_map.append(i[1])"
   ]
  },
  {
   "cell_type": "code",
   "execution_count": 64,
   "metadata": {
    "scrolled": true
   },
   "outputs": [
    {
     "data": {
      "text/plain": [
       "['древнеe солнце',\n",
       " 'женщины',\n",
       " 'гнилое дерево',\n",
       " 'ящерицы',\n",
       " 'волосатые обезьяны',\n",
       " 'жрец',\n",
       " 'брат',\n",
       " 'сестра',\n",
       " 'особый дом',\n",
       " 'вода',\n",
       " 'два цветка',\n",
       " 'тело',\n",
       " 'беременность',\n",
       " 'верховный бог',\n",
       " 'мать ягуаров',\n",
       " 'чрево',\n",
       " 'близнецы',\n",
       " 'рыба',\n",
       " 'другие',\n",
       " 'Ящерица',\n",
       " 'счет',\n",
       " 'мясо',\n",
       " 'пиво из маниока',\n",
       " 'сестра-пчела',\n",
       " 'сыновья матери ягуаров',\n",
       " 'добыча',\n",
       " 'части тела',\n",
       " 'крыша',\n",
       " 'варево',\n",
       " 'Пума и Оцелот',\n",
       " 'котел',\n",
       " 'голова',\n",
       " 'озеро',\n",
       " 'мост из лиан',\n",
       " 'беременная ягуариха',\n",
       " 'взросление',\n",
       " 'небо',\n",
       " 'Солнце',\n",
       " 'Луна']"
      ]
     },
     "execution_count": 64,
     "metadata": {},
     "output_type": "execute_result"
    }
   ],
   "source": [
    "list_for_map"
   ]
  },
  {
   "cell_type": "code",
   "execution_count": 68,
   "metadata": {},
   "outputs": [],
   "source": [
    "mapper = {}\n",
    "for i, j in enumerate(list_for_map):\n",
    "    mapper[j] = i"
   ]
  },
  {
   "cell_type": "code",
   "execution_count": 69,
   "metadata": {
    "scrolled": true
   },
   "outputs": [
    {
     "data": {
      "text/plain": [
       "{'древнеe солнце': 0,\n",
       " 'женщины': 1,\n",
       " 'гнилое дерево': 2,\n",
       " 'ящерицы': 3,\n",
       " 'волосатые обезьяны': 4,\n",
       " 'жрец': 5,\n",
       " 'брат': 6,\n",
       " 'сестра': 7,\n",
       " 'особый дом': 8,\n",
       " 'вода': 9,\n",
       " 'два цветка': 10,\n",
       " 'тело': 11,\n",
       " 'беременность': 12,\n",
       " 'верховный бог': 13,\n",
       " 'мать ягуаров': 14,\n",
       " 'чрево': 15,\n",
       " 'близнецы': 16,\n",
       " 'рыба': 17,\n",
       " 'другие': 18,\n",
       " 'Ящерица': 19,\n",
       " 'счет': 20,\n",
       " 'мясо': 21,\n",
       " 'пиво из маниока': 22,\n",
       " 'сестра-пчела': 23,\n",
       " 'сыновья матери ягуаров': 24,\n",
       " 'добыча': 25,\n",
       " 'части тела': 26,\n",
       " 'крыша': 27,\n",
       " 'варево': 28,\n",
       " 'Пума и Оцелот': 29,\n",
       " 'котел': 30,\n",
       " 'голова': 31,\n",
       " 'озеро': 32,\n",
       " 'мост из лиан': 33,\n",
       " 'беременная ягуариха': 34,\n",
       " 'взросление': 35,\n",
       " 'небо': 36,\n",
       " 'Солнце': 37,\n",
       " 'Луна': 38}"
      ]
     },
     "execution_count": 69,
     "metadata": {},
     "output_type": "execute_result"
    }
   ],
   "source": [
    "mapper"
   ]
  },
  {
   "cell_type": "code",
   "execution_count": 70,
   "metadata": {},
   "outputs": [],
   "source": [
    "# new directed graph\n",
    "story_graph = snap.TNGraph.New()"
   ]
  },
  {
   "cell_type": "code",
   "execution_count": 71,
   "metadata": {},
   "outputs": [],
   "source": [
    "for i in mapper:\n",
    "    story_graph.AddNode(mapper[i])"
   ]
  },
  {
   "cell_type": "code",
   "execution_count": 72,
   "metadata": {},
   "outputs": [],
   "source": [
    "for i in memb:\n",
    "    N1 = mapper[i[0]]\n",
    "    N2 = mapper[i[1]]\n",
    "    story_graph.AddEdge(N1, N2)"
   ]
  },
  {
   "cell_type": "code",
   "execution_count": 73,
   "metadata": {},
   "outputs": [],
   "source": [
    "snap.SaveEdgeList(story_graph, \"../output/story_graph.txt\", \"story_graph\")"
   ]
  },
  {
   "cell_type": "code",
   "execution_count": 74,
   "metadata": {},
   "outputs": [],
   "source": [
    "snap.DrawGViz(story_graph, snap.gvlNeato, \"images/story_graph.png\", \"story_graph\", True)"
   ]
  },
  {
   "cell_type": "markdown",
   "metadata": {},
   "source": [
    "# Some metrics"
   ]
  },
  {
   "cell_type": "code",
   "execution_count": 75,
   "metadata": {},
   "outputs": [
    {
     "name": "stdout",
     "output_type": "stream",
     "text": [
      "The graph is a tree: False \n",
      "The graph has a root id: -1\n"
     ]
    }
   ],
   "source": [
    "# is a connected tree?\n",
    "[is_tree, root_id] = snap.IsTree(story_graph)\n",
    "print(\"The graph is a tree: %s \" % is_tree)\n",
    "print(\"The graph has a root id: %d\" % root_id)"
   ]
  },
  {
   "cell_type": "code",
   "execution_count": 76,
   "metadata": {},
   "outputs": [],
   "source": [
    "snap.PrintInfo(story_graph, \"story_graph stats\", \"../output/story_graph_stat.txt\")"
   ]
  },
  {
   "cell_type": "code",
   "execution_count": 77,
   "metadata": {},
   "outputs": [
    {
     "name": "stdout",
     "output_type": "stream",
     "text": [
      "story_graph stats: Directed\n",
      "\n",
      "  Nodes:                    39\n",
      "\n",
      "  Edges:                    63\n",
      "\n",
      "  Zero Deg Nodes:           0\n",
      "\n",
      "  Zero InDeg Nodes:         3\n",
      "\n",
      "  Zero OutDeg Nodes:        9\n",
      "\n",
      "  NonZero In-Out Deg Nodes: 27\n",
      "\n"
     ]
    }
   ],
   "source": [
    "with open(\"../output/story_graph_stat.txt\", 'r') as f:\n",
    "    for i in f:\n",
    "        print(i)"
   ]
  },
  {
   "cell_type": "code",
   "execution_count": 78,
   "metadata": {},
   "outputs": [
    {
     "name": "stdout",
     "output_type": "stream",
     "text": [
      "False\n"
     ]
    }
   ],
   "source": [
    "# is connected\n",
    "print(snap.IsConnected(story_graph))"
   ]
  },
  {
   "cell_type": "code",
   "execution_count": 79,
   "metadata": {},
   "outputs": [
    {
     "name": "stdout",
     "output_type": "stream",
     "text": [
      "False\n"
     ]
    }
   ],
   "source": [
    "# is weakly connected\n",
    "print(snap.IsWeaklyConn(story_graph))"
   ]
  },
  {
   "cell_type": "code",
   "execution_count": 80,
   "metadata": {
    "scrolled": true
   },
   "outputs": [
    {
     "name": "stdout",
     "output_type": "stream",
     "text": [
      "Size of component:24\n",
      "Size of component:1\n",
      "Size of component:1\n",
      "Size of component:1\n",
      "Size of component:1\n",
      "Size of component:1\n",
      "Size of component:1\n",
      "Size of component:1\n",
      "Size of component:1\n",
      "Size of component:1\n",
      "Size of component:1\n",
      "Size of component:1\n",
      "Size of component:1\n",
      "Size of component:1\n",
      "Size of component:1\n",
      "Size of component:1\n"
     ]
    }
   ],
   "source": [
    "#  strongly connected components\n",
    "comp = snap.TCnComV()\n",
    "snap.GetSccs(story_graph, comp)\n",
    "for c in comp:\n",
    "    print(\"Size of component:{0}\".format(c.Len()))"
   ]
  },
  {
   "cell_type": "code",
   "execution_count": 81,
   "metadata": {},
   "outputs": [
    {
     "name": "stdout",
     "output_type": "stream",
     "text": [
      "Size: 1 - Number of Components: 15\n",
      "Size: 24 - Number of Components: 1\n"
     ]
    }
   ],
   "source": [
    "# distribution of strongly connected component sizes\n",
    "comp_dist = snap.TIntPrV()\n",
    "snap.GetSccSzCnt(story_graph, comp_dist)\n",
    "for c in comp_dist:\n",
    "    print(\"Size: {0} - Number of Components: {1}\".format(c.GetVal1(), c.GetVal2()))"
   ]
  },
  {
   "cell_type": "code",
   "execution_count": 82,
   "metadata": {},
   "outputs": [
    {
     "name": "stdout",
     "output_type": "stream",
     "text": [
      "Size of component:34\n",
      "Size of component:5\n"
     ]
    }
   ],
   "source": [
    "# all weakly connected components\n",
    "wcomp = snap.TCnComV()\n",
    "snap.GetWccs(story_graph, wcomp)\n",
    "for c in wcomp:\n",
    "    print(\"Size of component:{0}\".format(c.Len()))"
   ]
  },
  {
   "cell_type": "code",
   "execution_count": 83,
   "metadata": {},
   "outputs": [
    {
     "name": "stdout",
     "output_type": "stream",
     "text": [
      "Size: 5 - Number of Components: 1\n",
      "Size: 34 - Number of Components: 1\n"
     ]
    }
   ],
   "source": [
    "# distribution of weakly connected component sizes\n",
    "wcomp_dist = snap.TIntPrV()\n",
    "snap.GetWccSzCnt(story_graph, wcomp_dist)\n",
    "for c in wcomp_dist:\n",
    "    print(\"Size: {0} - Number of Components: {1}\".format(c.GetVal1(), c.GetVal2()))"
   ]
  },
  {
   "cell_type": "code",
   "execution_count": 84,
   "metadata": {
    "scrolled": true
   },
   "outputs": [
    {
     "name": "stdout",
     "output_type": "stream",
     "text": [
      "edge: 5, 6\n",
      "edge: 5, 7\n",
      "edge: 5, 12\n",
      "edge: 5, 19\n",
      "edge: 6, 8\n",
      "edge: 7, 8\n",
      "edge: 7, 9\n",
      "edge: 7, 15\n",
      "edge: 8, 16\n",
      "edge: 9, 10\n",
      "edge: 9, 17\n",
      "edge: 10, 11\n",
      "edge: 11, 12\n",
      "edge: 12, 6\n",
      "edge: 14, 7\n",
      "edge: 14, 16\n",
      "edge: 14, 21\n",
      "edge: 14, 22\n",
      "edge: 14, 24\n",
      "edge: 14, 26\n",
      "edge: 15, 16\n",
      "edge: 16, 9\n",
      "edge: 16, 14\n",
      "edge: 16, 16\n",
      "edge: 16, 18\n",
      "edge: 16, 22\n",
      "edge: 16, 33\n",
      "edge: 17, 16\n",
      "edge: 18, 19\n",
      "edge: 19, 16\n",
      "edge: 19, 19\n",
      "edge: 21, 16\n",
      "edge: 22, 16\n",
      "edge: 22, 23\n",
      "edge: 23, 16\n",
      "edge: 24, 8\n",
      "edge: 24, 14\n",
      "edge: 24, 25\n",
      "edge: 24, 26\n",
      "edge: 24, 28\n",
      "edge: 24, 30\n",
      "edge: 24, 33\n",
      "edge: 25, 16\n",
      "edge: 26, 24\n",
      "edge: 28, 16\n",
      "edge: 30, 31\n",
      "edge: 31, 14\n",
      "edge: 33, 33\n",
      "edge: 33, 34\n",
      "edge: 34, 24\n",
      "Count: 50\n"
     ]
    }
   ],
   "source": [
    "# graph representing the largest bi-connected component\n",
    "bicon = snap.GetMxBiCon(story_graph)\n",
    "count_bi = 0\n",
    "for i in bicon.Edges():\n",
    "    print(\"edge: {0}, {1}\".format(i.GetSrcNId(), i.GetDstNId()))\n",
    "    count_bi += 1\n",
    "print('Count: {0}'.format(count_bi))"
   ]
  },
  {
   "cell_type": "code",
   "execution_count": 85,
   "metadata": {
    "scrolled": true
   },
   "outputs": [
    {
     "name": "stdout",
     "output_type": "stream",
     "text": [
      "edge: 19, 16\n",
      "edge: 19, 19\n",
      "edge: 18, 19\n",
      "edge: 34, 24\n",
      "edge: 33, 33\n",
      "edge: 33, 34\n",
      "edge: 31, 14\n",
      "edge: 30, 31\n",
      "edge: 28, 16\n",
      "edge: 26, 24\n",
      "edge: 25, 16\n",
      "edge: 24, 8\n",
      "edge: 24, 14\n",
      "edge: 24, 25\n",
      "edge: 24, 26\n",
      "edge: 24, 28\n",
      "edge: 24, 30\n",
      "edge: 24, 33\n",
      "edge: 23, 16\n",
      "edge: 22, 16\n",
      "edge: 22, 23\n",
      "edge: 21, 16\n",
      "edge: 15, 16\n",
      "edge: 7, 8\n",
      "edge: 7, 9\n",
      "edge: 7, 15\n",
      "edge: 14, 7\n",
      "edge: 14, 16\n",
      "edge: 14, 21\n",
      "edge: 14, 22\n",
      "edge: 14, 24\n",
      "edge: 14, 26\n",
      "edge: 17, 16\n",
      "edge: 12, 6\n",
      "edge: 11, 12\n",
      "edge: 10, 11\n",
      "edge: 9, 10\n",
      "edge: 9, 17\n",
      "edge: 16, 9\n",
      "edge: 16, 14\n",
      "edge: 16, 16\n",
      "edge: 16, 18\n",
      "edge: 16, 22\n",
      "edge: 16, 33\n",
      "edge: 8, 16\n",
      "edge: 6, 8\n",
      "Count: 46\n"
     ]
    }
   ],
   "source": [
    "# graph representing the largest strongly connected component\n",
    "sc = snap.GetMxScc(story_graph)\n",
    "count_sc = 0\n",
    "for i in sc.Edges():\n",
    "    print(\"edge: {0}, {1}\".format(i.GetSrcNId(), i.GetDstNId()))\n",
    "    count_sc += 1\n",
    "print('Count: {0}'.format(count_sc))"
   ]
  },
  {
   "cell_type": "code",
   "execution_count": 86,
   "metadata": {},
   "outputs": [
    {
     "name": "stdout",
     "output_type": "stream",
     "text": [
      "Relative size of largest strongly connected component in story_graph: 0.6153846153846154\n"
     ]
    }
   ],
   "source": [
    "# fraction of nodes in the largest strongly connected component\n",
    "print('Relative size of largest strongly connected component in story_graph:', snap.GetMxSccSz(story_graph))"
   ]
  },
  {
   "cell_type": "code",
   "execution_count": 87,
   "metadata": {
    "scrolled": true
   },
   "outputs": [
    {
     "name": "stdout",
     "output_type": "stream",
     "text": [
      "edge: 5, 6\n",
      "edge: 5, 7\n",
      "edge: 5, 12\n",
      "edge: 5, 19\n",
      "edge: 6, 8\n",
      "edge: 7, 8\n",
      "edge: 7, 9\n",
      "edge: 7, 15\n",
      "edge: 8, 16\n",
      "edge: 9, 10\n",
      "edge: 9, 17\n",
      "edge: 10, 11\n",
      "edge: 11, 12\n",
      "edge: 12, 6\n",
      "edge: 12, 13\n",
      "edge: 14, 7\n",
      "edge: 14, 16\n",
      "edge: 14, 21\n",
      "edge: 14, 22\n",
      "edge: 14, 24\n",
      "edge: 14, 26\n",
      "edge: 15, 16\n",
      "edge: 16, 9\n",
      "edge: 16, 14\n",
      "edge: 16, 16\n",
      "edge: 16, 18\n",
      "edge: 16, 22\n",
      "edge: 16, 32\n",
      "edge: 16, 33\n",
      "edge: 16, 35\n",
      "edge: 17, 16\n",
      "edge: 18, 19\n",
      "edge: 19, 16\n",
      "edge: 19, 19\n",
      "edge: 19, 20\n",
      "edge: 21, 16\n",
      "edge: 22, 16\n",
      "edge: 22, 23\n",
      "edge: 23, 16\n",
      "edge: 24, 8\n",
      "edge: 24, 14\n",
      "edge: 24, 25\n",
      "edge: 24, 26\n",
      "edge: 24, 27\n",
      "edge: 24, 28\n",
      "edge: 24, 30\n",
      "edge: 24, 33\n",
      "edge: 25, 16\n",
      "edge: 26, 24\n",
      "edge: 28, 16\n",
      "edge: 29, 28\n",
      "edge: 30, 31\n",
      "edge: 31, 14\n",
      "edge: 33, 33\n",
      "edge: 33, 34\n",
      "edge: 34, 24\n",
      "edge: 35, 36\n",
      "edge: 36, 37\n",
      "edge: 36, 38\n",
      "Count: 59\n"
     ]
    }
   ],
   "source": [
    "# graph representing the largest weakly connected component\n",
    "wc = snap.GetMxWcc(story_graph)\n",
    "count_wc = 0\n",
    "for i in wc.Edges():\n",
    "    print(\"edge: {0}, {1}\".format(i.GetSrcNId(), i.GetDstNId()))\n",
    "    count_wc += 1\n",
    "print('Count: {0}'.format(count_wc))"
   ]
  },
  {
   "cell_type": "code",
   "execution_count": 88,
   "metadata": {},
   "outputs": [
    {
     "name": "stdout",
     "output_type": "stream",
     "text": [
      "Relative size of largest weakly connected componet in story_graph: 0.8717948717948718\n"
     ]
    }
   ],
   "source": [
    "# fraction of nodes in the largest weakly connected componet\n",
    "print('Relative size of largest weakly connected componet in story_graph:', snap.GetMxWccSz(story_graph))"
   ]
  },
  {
   "cell_type": "code",
   "execution_count": 89,
   "metadata": {},
   "outputs": [],
   "source": [
    "# directed to undirected\n",
    "story_graph_u = snap.ConvertGraph(snap.PUNGraph, story_graph)"
   ]
  },
  {
   "cell_type": "code",
   "execution_count": 90,
   "metadata": {},
   "outputs": [],
   "source": [
    "snap.SaveEdgeList(story_graph_u, \"../output/story_graph_u.txt\", \"story_graph_u\")"
   ]
  },
  {
   "cell_type": "code",
   "execution_count": 91,
   "metadata": {},
   "outputs": [],
   "source": [
    "snap.DrawGViz(story_graph_u, snap.gvlNeato, \"images/story_graph_u.png\", \"story_graph_u\", True)"
   ]
  },
  {
   "cell_type": "code",
   "execution_count": 92,
   "metadata": {},
   "outputs": [
    {
     "name": "stdout",
     "output_type": "stream",
     "text": [
      "0\n",
      "1\n",
      "2\n",
      "3\n",
      "4\n",
      "35\n",
      "36\n",
      "37\n",
      "38\n",
      "32\n",
      "29\n",
      "27\n",
      "20\n",
      "13\n"
     ]
    }
   ],
   "source": [
    "# 1-components: \n",
    "# maximal connected components of that can be disconnected from the Graph by removing a single edge\n",
    "concomp = snap.TCnComV()\n",
    "snap.Get1CnCom(story_graph_u, concomp)\n",
    "for i in concomp:\n",
    "    for n in i:\n",
    "        print(n)"
   ]
  },
  {
   "cell_type": "code",
   "execution_count": 93,
   "metadata": {},
   "outputs": [
    {
     "name": "stdout",
     "output_type": "stream",
     "text": [
      "1, 5\n",
      "4, 1\n",
      "5, 1\n"
     ]
    }
   ],
   "source": [
    "# distribution of sizes of 1-components: \n",
    "# maximal connected components of that can be disconnected from the Graph by removing a single edge\n",
    "szcomp = snap.TIntPrV()\n",
    "snap.Get1CnComSzCnt(story_graph_u, szcomp)\n",
    "for i in szcomp:\n",
    "    print(\"{0}, {1}\".format(i.GetVal1(), i.GetVal2()))"
   ]
  },
  {
   "cell_type": "code",
   "execution_count": 94,
   "metadata": {
    "scrolled": true
   },
   "outputs": [
    {
     "name": "stdout",
     "output_type": "stream",
     "text": [
      "1\n",
      "2\n",
      "1\n",
      "3\n",
      "1\n",
      "4\n",
      "0\n",
      "1\n",
      "12\n",
      "13\n",
      "24\n",
      "27\n",
      "28\n",
      "29\n",
      "19\n",
      "20\n",
      "16\n",
      "32\n",
      "36\n",
      "37\n",
      "36\n",
      "38\n",
      "35\n",
      "36\n",
      "16\n",
      "35\n",
      "5\n",
      "6\n",
      "7\n",
      "8\n",
      "9\n",
      "10\n",
      "11\n",
      "12\n",
      "14\n",
      "15\n",
      "16\n",
      "17\n",
      "18\n",
      "19\n",
      "21\n",
      "22\n",
      "23\n",
      "24\n",
      "25\n",
      "26\n",
      "28\n",
      "30\n",
      "31\n",
      "33\n",
      "34\n",
      "Count: 51\n"
     ]
    }
   ],
   "source": [
    "# all bi-connected components of a Graph\n",
    "bi = snap.TCnComV()\n",
    "count_bi_u = 0\n",
    "snap.GetBiCon(story_graph_u, bi)\n",
    "for i in bi:\n",
    "    for j in i:\n",
    "        count_bi_u += 1\n",
    "        print(j)\n",
    "print('Count: {0}'.format(count_bi_u))"
   ]
  },
  {
   "cell_type": "code",
   "execution_count": 95,
   "metadata": {},
   "outputs": [
    {
     "name": "stdout",
     "output_type": "stream",
     "text": [
      "2, 13\n",
      "25, 1\n"
     ]
    }
   ],
   "source": [
    "# distribution of bi-connected component sizes. \n",
    "# A bi-connected component is a maximal subgraph with no articulation points\n",
    "bi_dis = snap.TIntPrV()\n",
    "snap.GetBiConSzCnt(story_graph_u, bi_dis)\n",
    "for i in bi_dis:\n",
    "    print(\"{0}, {1}\".format(i.GetVal1(), i.GetVal2()))"
   ]
  },
  {
   "cell_type": "code",
   "execution_count": 96,
   "metadata": {},
   "outputs": [
    {
     "name": "stdout",
     "output_type": "stream",
     "text": [
      "Articulation points of a story_graph_u: \n",
      "node: 1\n",
      "node: 12\n",
      "node: 24\n",
      "node: 28\n",
      "node: 19\n",
      "node: 16\n",
      "node: 36\n",
      "node: 35\n",
      "node: 5\n"
     ]
    }
   ],
   "source": [
    "# articulation points\n",
    "art = snap.TIntV()\n",
    "snap.GetArtPoints(story_graph_u, art)\n",
    "print(\"Articulation points of a story_graph_u: \")\n",
    "for i in art:\n",
    "    print(\"node: {0}\".format(i))"
   ]
  },
  {
   "cell_type": "code",
   "execution_count": 97,
   "metadata": {},
   "outputs": [
    {
     "name": "stdout",
     "output_type": "stream",
     "text": [
      "1, 2\n",
      "1, 3\n",
      "1, 4\n",
      "0, 1\n",
      "12, 13\n",
      "24, 27\n",
      "28, 29\n",
      "19, 20\n",
      "16, 32\n",
      "36, 37\n",
      "36, 38\n",
      "35, 36\n",
      "16, 35\n"
     ]
    }
   ],
   "source": [
    "# edge bridges\n",
    "eb = snap.TIntPrV()\n",
    "snap.GetEdgeBridges(story_graph_u, eb)\n",
    "for i in eb:\n",
    "    print(\"{0}, {1}\".format(i.GetVal1(), i.GetVal2()))"
   ]
  },
  {
   "cell_type": "markdown",
   "metadata": {},
   "source": [
    "#### Breadth and Depth"
   ]
  },
  {
   "cell_type": "code",
   "execution_count": 98,
   "metadata": {},
   "outputs": [
    {
     "name": "stdout",
     "output_type": "stream",
     "text": [
      "7\n"
     ]
    }
   ],
   "source": [
    "# diameter, or ‘longest shortest path’\n",
    "# undirected\n",
    "diam = snap.GetBfsFullDiam(story_graph, 39, False)\n",
    "print(diam)"
   ]
  },
  {
   "cell_type": "code",
   "execution_count": 99,
   "metadata": {},
   "outputs": [
    {
     "name": "stdout",
     "output_type": "stream",
     "text": [
      "9\n"
     ]
    }
   ],
   "source": [
    "# directed\n",
    "diam_d = snap.GetBfsFullDiam(story_graph, 39, True)\n",
    "print(diam_d)"
   ]
  },
  {
   "cell_type": "code",
   "execution_count": 100,
   "metadata": {},
   "outputs": [
    {
     "name": "stdout",
     "output_type": "stream",
     "text": [
      "4.039795918367348\n"
     ]
    }
   ],
   "source": [
    "# Effective Diameter (90-th percentile of the distribution of shortest path lengths\n",
    "# undirected\n",
    "effdiam = snap.GetBfsEffDiam(story_graph, 39, False)\n",
    "print(effdiam)"
   ]
  },
  {
   "cell_type": "code",
   "execution_count": 101,
   "metadata": {},
   "outputs": [
    {
     "name": "stdout",
     "output_type": "stream",
     "text": [
      "5.549315068493151\n"
     ]
    }
   ],
   "source": [
    "# directed\n",
    "effdiam_d = snap.GetBfsEffDiam(story_graph, 39, True)\n",
    "print(effdiam_d)"
   ]
  },
  {
   "cell_type": "code",
   "execution_count": 102,
   "metadata": {},
   "outputs": [
    {
     "name": "stdout",
     "output_type": "stream",
     "text": [
      "[4.039795918367348, 4.039795918367348, 7, 2.8145639288738358]\n"
     ]
    }
   ],
   "source": [
    "# approximation of the effective diameter, the diameter, and the average shortest path length in a graph\n",
    "# undirected\n",
    "result = snap.GetBfsEffDiamAll(story_graph, 39, False)\n",
    "print(result)"
   ]
  },
  {
   "cell_type": "code",
   "execution_count": 103,
   "metadata": {},
   "outputs": [
    {
     "name": "stdout",
     "output_type": "stream",
     "text": [
      "[5.549315068493151, 5.549315068493151, 9, 3.5867287543655415]\n"
     ]
    }
   ],
   "source": [
    "# directed\n",
    "result_d = snap.GetBfsEffDiamAll(story_graph, 39, True)\n",
    "print(result_d)"
   ]
  },
  {
   "cell_type": "code",
   "execution_count": null,
   "metadata": {},
   "outputs": [],
   "source": []
  }
 ],
 "metadata": {
  "kernelspec": {
   "display_name": "Python 3",
   "language": "python",
   "name": "python3"
  },
  "language_info": {
   "codemirror_mode": {
    "name": "ipython",
    "version": 3
   },
   "file_extension": ".py",
   "mimetype": "text/x-python",
   "name": "python",
   "nbconvert_exporter": "python",
   "pygments_lexer": "ipython3",
   "version": "3.7.2"
  },
  "varInspector": {
   "cols": {
    "lenName": 16,
    "lenType": 16,
    "lenVar": 40
   },
   "kernels_config": {
    "python": {
     "delete_cmd_postfix": "",
     "delete_cmd_prefix": "del ",
     "library": "var_list.py",
     "varRefreshCmd": "print(var_dic_list())"
    },
    "r": {
     "delete_cmd_postfix": ") ",
     "delete_cmd_prefix": "rm(",
     "library": "var_list.r",
     "varRefreshCmd": "cat(var_dic_list()) "
    }
   },
   "types_to_exclude": [
    "module",
    "function",
    "builtin_function_or_method",
    "instance",
    "_Feature"
   ],
   "window_display": false
  }
 },
 "nbformat": 4,
 "nbformat_minor": 2
}
